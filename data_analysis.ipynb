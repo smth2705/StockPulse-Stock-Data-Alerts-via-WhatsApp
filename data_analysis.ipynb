{
 "cells": [
  {
   "cell_type": "code",
   "id": "initial_id",
   "metadata": {
    "collapsed": true,
    "ExecuteTime": {
     "end_time": "2025-08-19T14:28:35.512056Z",
     "start_time": "2025-08-19T14:28:35.500925Z"
    }
   },
   "source": [
    "import pandas as pd\n",
    "import numpy as np"
   ],
   "outputs": [],
   "execution_count": 2
  },
  {
   "metadata": {
    "ExecuteTime": {
     "end_time": "2025-08-19T14:28:36.142296Z",
     "start_time": "2025-08-19T14:28:35.617844Z"
    }
   },
   "cell_type": "code",
   "source": "df = pd.read_csv(\"stocks.csv\")",
   "id": "fe98d39b8ae5173e",
   "outputs": [],
   "execution_count": 3
  },
  {
   "metadata": {
    "ExecuteTime": {
     "end_time": "2025-08-19T14:28:51.235244Z",
     "start_time": "2025-08-19T14:28:51.022493Z"
    }
   },
   "cell_type": "code",
   "source": "df.head()",
   "id": "3b8127dab79eaef",
   "outputs": [
    {
     "data": {
      "text/plain": [
       "  Ticker                                     Name Exchange  \\\n",
       "0   OEDV  Osage Exploration and Development, Inc.      PNK   \n",
       "1   AAPL                               Apple Inc.      NMS   \n",
       "2    BAC              Bank of America Corporation      NYQ   \n",
       "3   AMZN                         Amazon.com, Inc.      NMS   \n",
       "4      T                                AT&T Inc.      NYQ   \n",
       "\n",
       "                 Category Name Country  Unnamed: 5  Unnamed: 6  Unnamed: 7  \n",
       "0                          NaN     USA         NaN         NaN         NaN  \n",
       "1         Electronic Equipment     USA         NaN         NaN         NaN  \n",
       "2           Money Center Banks     USA         NaN         NaN         NaN  \n",
       "3  Catalog & Mail Order Houses     USA         NaN         NaN         NaN  \n",
       "4  Telecom Services - Domestic     USA         NaN         NaN         NaN  "
      ],
      "text/html": [
       "<div>\n",
       "<style scoped>\n",
       "    .dataframe tbody tr th:only-of-type {\n",
       "        vertical-align: middle;\n",
       "    }\n",
       "\n",
       "    .dataframe tbody tr th {\n",
       "        vertical-align: top;\n",
       "    }\n",
       "\n",
       "    .dataframe thead th {\n",
       "        text-align: right;\n",
       "    }\n",
       "</style>\n",
       "<table border=\"1\" class=\"dataframe\">\n",
       "  <thead>\n",
       "    <tr style=\"text-align: right;\">\n",
       "      <th></th>\n",
       "      <th>Ticker</th>\n",
       "      <th>Name</th>\n",
       "      <th>Exchange</th>\n",
       "      <th>Category Name</th>\n",
       "      <th>Country</th>\n",
       "      <th>Unnamed: 5</th>\n",
       "      <th>Unnamed: 6</th>\n",
       "      <th>Unnamed: 7</th>\n",
       "    </tr>\n",
       "  </thead>\n",
       "  <tbody>\n",
       "    <tr>\n",
       "      <th>0</th>\n",
       "      <td>OEDV</td>\n",
       "      <td>Osage Exploration and Development, Inc.</td>\n",
       "      <td>PNK</td>\n",
       "      <td>NaN</td>\n",
       "      <td>USA</td>\n",
       "      <td>NaN</td>\n",
       "      <td>NaN</td>\n",
       "      <td>NaN</td>\n",
       "    </tr>\n",
       "    <tr>\n",
       "      <th>1</th>\n",
       "      <td>AAPL</td>\n",
       "      <td>Apple Inc.</td>\n",
       "      <td>NMS</td>\n",
       "      <td>Electronic Equipment</td>\n",
       "      <td>USA</td>\n",
       "      <td>NaN</td>\n",
       "      <td>NaN</td>\n",
       "      <td>NaN</td>\n",
       "    </tr>\n",
       "    <tr>\n",
       "      <th>2</th>\n",
       "      <td>BAC</td>\n",
       "      <td>Bank of America Corporation</td>\n",
       "      <td>NYQ</td>\n",
       "      <td>Money Center Banks</td>\n",
       "      <td>USA</td>\n",
       "      <td>NaN</td>\n",
       "      <td>NaN</td>\n",
       "      <td>NaN</td>\n",
       "    </tr>\n",
       "    <tr>\n",
       "      <th>3</th>\n",
       "      <td>AMZN</td>\n",
       "      <td>Amazon.com, Inc.</td>\n",
       "      <td>NMS</td>\n",
       "      <td>Catalog &amp; Mail Order Houses</td>\n",
       "      <td>USA</td>\n",
       "      <td>NaN</td>\n",
       "      <td>NaN</td>\n",
       "      <td>NaN</td>\n",
       "    </tr>\n",
       "    <tr>\n",
       "      <th>4</th>\n",
       "      <td>T</td>\n",
       "      <td>AT&amp;T Inc.</td>\n",
       "      <td>NYQ</td>\n",
       "      <td>Telecom Services - Domestic</td>\n",
       "      <td>USA</td>\n",
       "      <td>NaN</td>\n",
       "      <td>NaN</td>\n",
       "      <td>NaN</td>\n",
       "    </tr>\n",
       "  </tbody>\n",
       "</table>\n",
       "</div>"
      ]
     },
     "execution_count": 4,
     "metadata": {},
     "output_type": "execute_result"
    }
   ],
   "execution_count": 4
  },
  {
   "metadata": {
    "ExecuteTime": {
     "end_time": "2025-08-19T14:30:09.038759Z",
     "start_time": "2025-08-19T14:30:08.563194Z"
    }
   },
   "cell_type": "code",
   "source": "df.drop(columns=['Unnamed: 5','Unnamed: 6','Unnamed: 7'], inplace=True)",
   "id": "c6e90df3b452593d",
   "outputs": [],
   "execution_count": 5
  },
  {
   "metadata": {
    "ExecuteTime": {
     "end_time": "2025-08-19T14:30:16.925915Z",
     "start_time": "2025-08-19T14:30:16.867416Z"
    }
   },
   "cell_type": "code",
   "source": "df.head()",
   "id": "411968d8b4987094",
   "outputs": [
    {
     "data": {
      "text/plain": [
       "  Ticker                                     Name Exchange  \\\n",
       "0   OEDV  Osage Exploration and Development, Inc.      PNK   \n",
       "1   AAPL                               Apple Inc.      NMS   \n",
       "2    BAC              Bank of America Corporation      NYQ   \n",
       "3   AMZN                         Amazon.com, Inc.      NMS   \n",
       "4      T                                AT&T Inc.      NYQ   \n",
       "\n",
       "                 Category Name Country  \n",
       "0                          NaN     USA  \n",
       "1         Electronic Equipment     USA  \n",
       "2           Money Center Banks     USA  \n",
       "3  Catalog & Mail Order Houses     USA  \n",
       "4  Telecom Services - Domestic     USA  "
      ],
      "text/html": [
       "<div>\n",
       "<style scoped>\n",
       "    .dataframe tbody tr th:only-of-type {\n",
       "        vertical-align: middle;\n",
       "    }\n",
       "\n",
       "    .dataframe tbody tr th {\n",
       "        vertical-align: top;\n",
       "    }\n",
       "\n",
       "    .dataframe thead th {\n",
       "        text-align: right;\n",
       "    }\n",
       "</style>\n",
       "<table border=\"1\" class=\"dataframe\">\n",
       "  <thead>\n",
       "    <tr style=\"text-align: right;\">\n",
       "      <th></th>\n",
       "      <th>Ticker</th>\n",
       "      <th>Name</th>\n",
       "      <th>Exchange</th>\n",
       "      <th>Category Name</th>\n",
       "      <th>Country</th>\n",
       "    </tr>\n",
       "  </thead>\n",
       "  <tbody>\n",
       "    <tr>\n",
       "      <th>0</th>\n",
       "      <td>OEDV</td>\n",
       "      <td>Osage Exploration and Development, Inc.</td>\n",
       "      <td>PNK</td>\n",
       "      <td>NaN</td>\n",
       "      <td>USA</td>\n",
       "    </tr>\n",
       "    <tr>\n",
       "      <th>1</th>\n",
       "      <td>AAPL</td>\n",
       "      <td>Apple Inc.</td>\n",
       "      <td>NMS</td>\n",
       "      <td>Electronic Equipment</td>\n",
       "      <td>USA</td>\n",
       "    </tr>\n",
       "    <tr>\n",
       "      <th>2</th>\n",
       "      <td>BAC</td>\n",
       "      <td>Bank of America Corporation</td>\n",
       "      <td>NYQ</td>\n",
       "      <td>Money Center Banks</td>\n",
       "      <td>USA</td>\n",
       "    </tr>\n",
       "    <tr>\n",
       "      <th>3</th>\n",
       "      <td>AMZN</td>\n",
       "      <td>Amazon.com, Inc.</td>\n",
       "      <td>NMS</td>\n",
       "      <td>Catalog &amp; Mail Order Houses</td>\n",
       "      <td>USA</td>\n",
       "    </tr>\n",
       "    <tr>\n",
       "      <th>4</th>\n",
       "      <td>T</td>\n",
       "      <td>AT&amp;T Inc.</td>\n",
       "      <td>NYQ</td>\n",
       "      <td>Telecom Services - Domestic</td>\n",
       "      <td>USA</td>\n",
       "    </tr>\n",
       "  </tbody>\n",
       "</table>\n",
       "</div>"
      ]
     },
     "execution_count": 6,
     "metadata": {},
     "output_type": "execute_result"
    }
   ],
   "execution_count": 6
  },
  {
   "metadata": {
    "ExecuteTime": {
     "end_time": "2025-08-19T14:31:20.943708Z",
     "start_time": "2025-08-19T14:31:20.924073Z"
    }
   },
   "cell_type": "code",
   "source": "df.drop(columns=['Category Name'], inplace=True)",
   "id": "d3c6734f4679426f",
   "outputs": [],
   "execution_count": 7
  },
  {
   "metadata": {
    "ExecuteTime": {
     "end_time": "2025-08-19T14:31:30.588411Z",
     "start_time": "2025-08-19T14:31:30.571089Z"
    }
   },
   "cell_type": "code",
   "source": "df.head()",
   "id": "309aada860793ba",
   "outputs": [
    {
     "data": {
      "text/plain": [
       "  Ticker                                     Name Exchange Country\n",
       "0   OEDV  Osage Exploration and Development, Inc.      PNK     USA\n",
       "1   AAPL                               Apple Inc.      NMS     USA\n",
       "2    BAC              Bank of America Corporation      NYQ     USA\n",
       "3   AMZN                         Amazon.com, Inc.      NMS     USA\n",
       "4      T                                AT&T Inc.      NYQ     USA"
      ],
      "text/html": [
       "<div>\n",
       "<style scoped>\n",
       "    .dataframe tbody tr th:only-of-type {\n",
       "        vertical-align: middle;\n",
       "    }\n",
       "\n",
       "    .dataframe tbody tr th {\n",
       "        vertical-align: top;\n",
       "    }\n",
       "\n",
       "    .dataframe thead th {\n",
       "        text-align: right;\n",
       "    }\n",
       "</style>\n",
       "<table border=\"1\" class=\"dataframe\">\n",
       "  <thead>\n",
       "    <tr style=\"text-align: right;\">\n",
       "      <th></th>\n",
       "      <th>Ticker</th>\n",
       "      <th>Name</th>\n",
       "      <th>Exchange</th>\n",
       "      <th>Country</th>\n",
       "    </tr>\n",
       "  </thead>\n",
       "  <tbody>\n",
       "    <tr>\n",
       "      <th>0</th>\n",
       "      <td>OEDV</td>\n",
       "      <td>Osage Exploration and Development, Inc.</td>\n",
       "      <td>PNK</td>\n",
       "      <td>USA</td>\n",
       "    </tr>\n",
       "    <tr>\n",
       "      <th>1</th>\n",
       "      <td>AAPL</td>\n",
       "      <td>Apple Inc.</td>\n",
       "      <td>NMS</td>\n",
       "      <td>USA</td>\n",
       "    </tr>\n",
       "    <tr>\n",
       "      <th>2</th>\n",
       "      <td>BAC</td>\n",
       "      <td>Bank of America Corporation</td>\n",
       "      <td>NYQ</td>\n",
       "      <td>USA</td>\n",
       "    </tr>\n",
       "    <tr>\n",
       "      <th>3</th>\n",
       "      <td>AMZN</td>\n",
       "      <td>Amazon.com, Inc.</td>\n",
       "      <td>NMS</td>\n",
       "      <td>USA</td>\n",
       "    </tr>\n",
       "    <tr>\n",
       "      <th>4</th>\n",
       "      <td>T</td>\n",
       "      <td>AT&amp;T Inc.</td>\n",
       "      <td>NYQ</td>\n",
       "      <td>USA</td>\n",
       "    </tr>\n",
       "  </tbody>\n",
       "</table>\n",
       "</div>"
      ]
     },
     "execution_count": 8,
     "metadata": {},
     "output_type": "execute_result"
    }
   ],
   "execution_count": 8
  },
  {
   "metadata": {
    "ExecuteTime": {
     "end_time": "2025-08-19T14:32:10.308158Z",
     "start_time": "2025-08-19T14:32:09.920411Z"
    }
   },
   "cell_type": "code",
   "source": "df.describe()",
   "id": "ba9bd8f822a75d24",
   "outputs": [
    {
     "data": {
      "text/plain": [
       "        Ticker          Name Exchange Country\n",
       "count   106328         96676    95092   95091\n",
       "unique  106328         64859       67      41\n",
       "top       OEDV  FINANC/TERMO      PNK     USA\n",
       "freq         1           439    14602   22169"
      ],
      "text/html": [
       "<div>\n",
       "<style scoped>\n",
       "    .dataframe tbody tr th:only-of-type {\n",
       "        vertical-align: middle;\n",
       "    }\n",
       "\n",
       "    .dataframe tbody tr th {\n",
       "        vertical-align: top;\n",
       "    }\n",
       "\n",
       "    .dataframe thead th {\n",
       "        text-align: right;\n",
       "    }\n",
       "</style>\n",
       "<table border=\"1\" class=\"dataframe\">\n",
       "  <thead>\n",
       "    <tr style=\"text-align: right;\">\n",
       "      <th></th>\n",
       "      <th>Ticker</th>\n",
       "      <th>Name</th>\n",
       "      <th>Exchange</th>\n",
       "      <th>Country</th>\n",
       "    </tr>\n",
       "  </thead>\n",
       "  <tbody>\n",
       "    <tr>\n",
       "      <th>count</th>\n",
       "      <td>106328</td>\n",
       "      <td>96676</td>\n",
       "      <td>95092</td>\n",
       "      <td>95091</td>\n",
       "    </tr>\n",
       "    <tr>\n",
       "      <th>unique</th>\n",
       "      <td>106328</td>\n",
       "      <td>64859</td>\n",
       "      <td>67</td>\n",
       "      <td>41</td>\n",
       "    </tr>\n",
       "    <tr>\n",
       "      <th>top</th>\n",
       "      <td>OEDV</td>\n",
       "      <td>FINANC/TERMO</td>\n",
       "      <td>PNK</td>\n",
       "      <td>USA</td>\n",
       "    </tr>\n",
       "    <tr>\n",
       "      <th>freq</th>\n",
       "      <td>1</td>\n",
       "      <td>439</td>\n",
       "      <td>14602</td>\n",
       "      <td>22169</td>\n",
       "    </tr>\n",
       "  </tbody>\n",
       "</table>\n",
       "</div>"
      ]
     },
     "execution_count": 9,
     "metadata": {},
     "output_type": "execute_result"
    }
   ],
   "execution_count": 9
  },
  {
   "metadata": {
    "ExecuteTime": {
     "end_time": "2025-08-19T14:56:57.678395Z",
     "start_time": "2025-08-19T14:56:57.276134Z"
    }
   },
   "cell_type": "code",
   "source": "df.dropna()",
   "id": "e442adca58764d86",
   "outputs": [
    {
     "data": {
      "text/plain": [
       "        Ticker                                     Name Exchange    Country\n",
       "0         OEDV  Osage Exploration and Development, Inc.      PNK        USA\n",
       "1         AAPL                               Apple Inc.      NMS        USA\n",
       "2          BAC              Bank of America Corporation      NYQ        USA\n",
       "3         AMZN                         Amazon.com, Inc.      NMS        USA\n",
       "4            T                                AT&T Inc.      NYQ        USA\n",
       "...        ...                                      ...      ...        ...\n",
       "106323  G5N.SG          Groupon Inc. Reg. Shares DL-,00      STU    Germany\n",
       "106324  N1H.AX                      N1 Holdings Limited      ASX  Australia\n",
       "106325  1K2.BE                  K2M GROUP HLDGS DL-,001      BER    Germany\n",
       "106326  2RM.BE                 RE/MAX HLDGS A DL -,0001      BER    Germany\n",
       "106327   2RM.F                    RE/MAX Holdings, Inc.      FRA     France\n",
       "\n",
       "[95089 rows x 4 columns]"
      ],
      "text/html": [
       "<div>\n",
       "<style scoped>\n",
       "    .dataframe tbody tr th:only-of-type {\n",
       "        vertical-align: middle;\n",
       "    }\n",
       "\n",
       "    .dataframe tbody tr th {\n",
       "        vertical-align: top;\n",
       "    }\n",
       "\n",
       "    .dataframe thead th {\n",
       "        text-align: right;\n",
       "    }\n",
       "</style>\n",
       "<table border=\"1\" class=\"dataframe\">\n",
       "  <thead>\n",
       "    <tr style=\"text-align: right;\">\n",
       "      <th></th>\n",
       "      <th>Ticker</th>\n",
       "      <th>Name</th>\n",
       "      <th>Exchange</th>\n",
       "      <th>Country</th>\n",
       "    </tr>\n",
       "  </thead>\n",
       "  <tbody>\n",
       "    <tr>\n",
       "      <th>0</th>\n",
       "      <td>OEDV</td>\n",
       "      <td>Osage Exploration and Development, Inc.</td>\n",
       "      <td>PNK</td>\n",
       "      <td>USA</td>\n",
       "    </tr>\n",
       "    <tr>\n",
       "      <th>1</th>\n",
       "      <td>AAPL</td>\n",
       "      <td>Apple Inc.</td>\n",
       "      <td>NMS</td>\n",
       "      <td>USA</td>\n",
       "    </tr>\n",
       "    <tr>\n",
       "      <th>2</th>\n",
       "      <td>BAC</td>\n",
       "      <td>Bank of America Corporation</td>\n",
       "      <td>NYQ</td>\n",
       "      <td>USA</td>\n",
       "    </tr>\n",
       "    <tr>\n",
       "      <th>3</th>\n",
       "      <td>AMZN</td>\n",
       "      <td>Amazon.com, Inc.</td>\n",
       "      <td>NMS</td>\n",
       "      <td>USA</td>\n",
       "    </tr>\n",
       "    <tr>\n",
       "      <th>4</th>\n",
       "      <td>T</td>\n",
       "      <td>AT&amp;T Inc.</td>\n",
       "      <td>NYQ</td>\n",
       "      <td>USA</td>\n",
       "    </tr>\n",
       "    <tr>\n",
       "      <th>...</th>\n",
       "      <td>...</td>\n",
       "      <td>...</td>\n",
       "      <td>...</td>\n",
       "      <td>...</td>\n",
       "    </tr>\n",
       "    <tr>\n",
       "      <th>106323</th>\n",
       "      <td>G5N.SG</td>\n",
       "      <td>Groupon Inc. Reg. Shares DL-,00</td>\n",
       "      <td>STU</td>\n",
       "      <td>Germany</td>\n",
       "    </tr>\n",
       "    <tr>\n",
       "      <th>106324</th>\n",
       "      <td>N1H.AX</td>\n",
       "      <td>N1 Holdings Limited</td>\n",
       "      <td>ASX</td>\n",
       "      <td>Australia</td>\n",
       "    </tr>\n",
       "    <tr>\n",
       "      <th>106325</th>\n",
       "      <td>1K2.BE</td>\n",
       "      <td>K2M GROUP HLDGS DL-,001</td>\n",
       "      <td>BER</td>\n",
       "      <td>Germany</td>\n",
       "    </tr>\n",
       "    <tr>\n",
       "      <th>106326</th>\n",
       "      <td>2RM.BE</td>\n",
       "      <td>RE/MAX HLDGS A DL -,0001</td>\n",
       "      <td>BER</td>\n",
       "      <td>Germany</td>\n",
       "    </tr>\n",
       "    <tr>\n",
       "      <th>106327</th>\n",
       "      <td>2RM.F</td>\n",
       "      <td>RE/MAX Holdings, Inc.</td>\n",
       "      <td>FRA</td>\n",
       "      <td>France</td>\n",
       "    </tr>\n",
       "  </tbody>\n",
       "</table>\n",
       "<p>95089 rows × 4 columns</p>\n",
       "</div>"
      ]
     },
     "execution_count": 23,
     "metadata": {},
     "output_type": "execute_result"
    }
   ],
   "execution_count": 23
  },
  {
   "metadata": {
    "ExecuteTime": {
     "end_time": "2025-08-19T14:57:52.614288Z",
     "start_time": "2025-08-19T14:57:52.576213Z"
    }
   },
   "cell_type": "code",
   "source": "import pickle as pk",
   "id": "930258696a7a5f05",
   "outputs": [],
   "execution_count": 24
  },
  {
   "metadata": {
    "ExecuteTime": {
     "end_time": "2025-08-19T14:59:21.656685Z",
     "start_time": "2025-08-19T14:59:21.410838Z"
    }
   },
   "cell_type": "code",
   "source": "df.to_pickle('Stocks.pkl')",
   "id": "28f02bfffd86d540",
   "outputs": [],
   "execution_count": 25
  },
  {
   "metadata": {
    "ExecuteTime": {
     "end_time": "2025-08-19T15:22:42.174360Z",
     "start_time": "2025-08-19T15:22:41.998988Z"
    }
   },
   "cell_type": "code",
   "source": [
    "exchanges_with_stocks = df['Exchange'].value_counts()\n",
    "valid_exchanges = exchanges_with_stocks[exchanges_with_stocks > 0]"
   ],
   "id": "c8ecdc343f3dcedb",
   "outputs": [],
   "execution_count": 26
  },
  {
   "metadata": {
    "ExecuteTime": {
     "end_time": "2025-08-19T15:22:47.741043Z",
     "start_time": "2025-08-19T15:22:47.643507Z"
    }
   },
   "cell_type": "code",
   "source": "valid_exchanges",
   "id": "2bf88078571d26aa",
   "outputs": [
    {
     "data": {
      "text/plain": [
       "Exchange\n",
       "PNK    14602\n",
       "FRA    10087\n",
       "BER     6968\n",
       "BSE     6087\n",
       "STU     5444\n",
       "       ...  \n",
       "TAL       16\n",
       "SHZ        5\n",
       "EUX        3\n",
       "MDD        1\n",
       "MAD        1\n",
       "Name: count, Length: 67, dtype: int64"
      ]
     },
     "execution_count": 27,
     "metadata": {},
     "output_type": "execute_result"
    }
   ],
   "execution_count": 27
  },
  {
   "metadata": {
    "ExecuteTime": {
     "end_time": "2025-08-19T15:36:05.126023Z",
     "start_time": "2025-08-19T15:36:04.995626Z"
    }
   },
   "cell_type": "code",
   "source": [
    "print(df['Exchange'].value_counts().sum())\n",
    "print(valid_exchanges.sum())\n"
   ],
   "id": "cd87307dffdf6fa",
   "outputs": [
    {
     "name": "stdout",
     "output_type": "stream",
     "text": [
      "95092\n",
      "95092\n"
     ]
    }
   ],
   "execution_count": 42
  },
  {
   "metadata": {},
   "cell_type": "code",
   "outputs": [],
   "execution_count": null,
   "source": "",
   "id": "5ac0d0029cccf813"
  }
 ],
 "metadata": {
  "kernelspec": {
   "display_name": "Python 3",
   "language": "python",
   "name": "python3"
  },
  "language_info": {
   "codemirror_mode": {
    "name": "ipython",
    "version": 2
   },
   "file_extension": ".py",
   "mimetype": "text/x-python",
   "name": "python",
   "nbconvert_exporter": "python",
   "pygments_lexer": "ipython2",
   "version": "2.7.6"
  }
 },
 "nbformat": 4,
 "nbformat_minor": 5
}
